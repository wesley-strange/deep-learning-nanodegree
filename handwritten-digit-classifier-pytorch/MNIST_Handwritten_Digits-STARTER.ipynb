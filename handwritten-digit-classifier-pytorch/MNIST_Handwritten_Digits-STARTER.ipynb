{
 "cells": [
  {
   "cell_type": "markdown",
   "metadata": {},
   "source": [
    "# Introduction\n",
    "\n",
    "In this project, you will build a neural network of your own design to evaluate the MNIST dataset.\n",
    "\n",
    "Some of the benchmark results on MNIST include can be found [on Yann LeCun's page](http://yann.lecun.com/exdb/mnist/) and include:\n",
    "\n",
    "88% [Lecun et al., 1998](http://yann.lecun.com/exdb/publis/pdf/lecun-98.pdf)\n",
    "95.3% [Lecun et al., 1998](http://yann.lecun.com/exdb/publis/pdf/lecun-98.pdf)\n",
    "99.65% [Ciresan et al., 2011](http://people.idsia.ch/~juergen/ijcai2011.pdf)\n",
    "\n",
    "MNIST is a great dataset for sanity checking your models, since the accuracy levels achieved by large convolutional neural networks and small linear models are both quite high. This makes it important to be familiar with the data.\n",
    "\n",
    "## Installation"
   ]
  },
  {
   "cell_type": "code",
   "execution_count": 1,
   "metadata": {},
   "outputs": [],
   "source": [
    "# Update the PATH to include the user installation directory. \n",
    "import os\n",
    "os.environ['PATH'] = f\"{os.environ['PATH']}:/root/.local/bin\"\n",
    "\n",
    "# Restart the Kernel before you move on to the next step."
   ]
  },
  {
   "cell_type": "markdown",
   "metadata": {},
   "source": [
    "#### Important: Restart the Kernel before you move on to the next step."
   ]
  },
  {
   "cell_type": "code",
   "execution_count": 1,
   "metadata": {
    "collapsed": true,
    "jupyter": {
     "outputs_hidden": true
    }
   },
   "outputs": [
    {
     "name": "stdout",
     "output_type": "stream",
     "text": [
      "Defaulting to user installation because normal site-packages is not writeable\n",
      "Requirement already satisfied: opencv-python-headless==4.5.3.56 in /root/.local/lib/python3.7/site-packages (from -r requirements.txt (line 1)) (4.5.3.56)\n",
      "Requirement already satisfied: matplotlib==3.4.3 in /opt/conda/lib/python3.7/site-packages (from -r requirements.txt (line 2)) (3.4.3)\n",
      "Requirement already satisfied: numpy==1.21.2 in /opt/conda/lib/python3.7/site-packages (from -r requirements.txt (line 3)) (1.21.2)\n",
      "Requirement already satisfied: pillow==7.0.0 in /opt/conda/lib/python3.7/site-packages (from -r requirements.txt (line 4)) (7.0.0)\n",
      "Requirement already satisfied: bokeh==2.1.1 in /root/.local/lib/python3.7/site-packages (from -r requirements.txt (line 5)) (2.1.1)\n",
      "Requirement already satisfied: torch==1.11.0 in /opt/conda/lib/python3.7/site-packages (from -r requirements.txt (line 6)) (1.11.0)\n",
      "Requirement already satisfied: torchvision==0.12.0 in /root/.local/lib/python3.7/site-packages (from -r requirements.txt (line 7)) (0.12.0)\n",
      "Requirement already satisfied: tqdm==4.63.0 in /root/.local/lib/python3.7/site-packages (from -r requirements.txt (line 8)) (4.63.0)\n",
      "Requirement already satisfied: ipywidgets==7.7.0 in /root/.local/lib/python3.7/site-packages (from -r requirements.txt (line 9)) (7.7.0)\n",
      "Requirement already satisfied: livelossplot==0.5.4 in /root/.local/lib/python3.7/site-packages (from -r requirements.txt (line 10)) (0.5.4)\n",
      "Requirement already satisfied: pytest==7.1.1 in /root/.local/lib/python3.7/site-packages (from -r requirements.txt (line 11)) (7.1.1)\n",
      "Requirement already satisfied: pandas==1.3.5 in /root/.local/lib/python3.7/site-packages (from -r requirements.txt (line 12)) (1.3.5)\n",
      "Requirement already satisfied: seaborn==0.11.2 in /root/.local/lib/python3.7/site-packages (from -r requirements.txt (line 13)) (0.11.2)\n",
      "Requirement already satisfied: jupyter==1.0.0 in /root/.local/lib/python3.7/site-packages (from -r requirements.txt (line 14)) (1.0.0)\n",
      "Requirement already satisfied: ipykernel==4.10.0 in /root/.local/lib/python3.7/site-packages (from -r requirements.txt (line 15)) (4.10.0)\n",
      "Requirement already satisfied: kiwisolver>=1.0.1 in /opt/conda/lib/python3.7/site-packages (from matplotlib==3.4.3->-r requirements.txt (line 2)) (1.1.0)\n",
      "Requirement already satisfied: cycler>=0.10 in /opt/conda/lib/python3.7/site-packages (from matplotlib==3.4.3->-r requirements.txt (line 2)) (0.10.0)\n",
      "Requirement already satisfied: pyparsing>=2.2.1 in /opt/conda/lib/python3.7/site-packages (from matplotlib==3.4.3->-r requirements.txt (line 2)) (2.4.6)\n",
      "Requirement already satisfied: python-dateutil>=2.7 in /opt/conda/lib/python3.7/site-packages (from matplotlib==3.4.3->-r requirements.txt (line 2)) (2.8.1)\n",
      "Requirement already satisfied: PyYAML>=3.10 in /opt/conda/lib/python3.7/site-packages (from bokeh==2.1.1->-r requirements.txt (line 5)) (5.3)\n",
      "Requirement already satisfied: tornado>=5.1 in /opt/conda/lib/python3.7/site-packages (from bokeh==2.1.1->-r requirements.txt (line 5)) (5.1.1)\n",
      "Requirement already satisfied: typing-extensions>=3.7.4 in /opt/conda/lib/python3.7/site-packages (from bokeh==2.1.1->-r requirements.txt (line 5)) (3.7.4.1)\n",
      "Requirement already satisfied: Jinja2>=2.7 in /opt/conda/lib/python3.7/site-packages (from bokeh==2.1.1->-r requirements.txt (line 5)) (2.11.1)\n",
      "Requirement already satisfied: packaging>=16.8 in /opt/conda/lib/python3.7/site-packages (from bokeh==2.1.1->-r requirements.txt (line 5)) (20.1)\n",
      "Requirement already satisfied: requests in /opt/conda/lib/python3.7/site-packages (from torchvision==0.12.0->-r requirements.txt (line 7)) (2.23.0)\n",
      "Requirement already satisfied: traitlets>=4.3.1 in /opt/conda/lib/python3.7/site-packages (from ipywidgets==7.7.0->-r requirements.txt (line 9)) (4.3.3)\n",
      "Requirement already satisfied: ipython-genutils~=0.2.0 in /opt/conda/lib/python3.7/site-packages (from ipywidgets==7.7.0->-r requirements.txt (line 9)) (0.2.0)\n",
      "Requirement already satisfied: widgetsnbextension~=3.6.0 in /root/.local/lib/python3.7/site-packages (from ipywidgets==7.7.0->-r requirements.txt (line 9)) (3.6.6)\n",
      "Requirement already satisfied: ipython>=4.0.0; python_version >= \"3.3\" in /opt/conda/lib/python3.7/site-packages (from ipywidgets==7.7.0->-r requirements.txt (line 9)) (7.13.0)\n",
      "Requirement already satisfied: jupyterlab-widgets>=1.0.0; python_version >= \"3.6\" in /root/.local/lib/python3.7/site-packages (from ipywidgets==7.7.0->-r requirements.txt (line 9)) (3.0.9)\n",
      "Requirement already satisfied: nbformat>=4.2.0 in /opt/conda/lib/python3.7/site-packages (from ipywidgets==7.7.0->-r requirements.txt (line 9)) (5.0.4)\n",
      "Requirement already satisfied: attrs>=19.2.0 in /opt/conda/lib/python3.7/site-packages (from pytest==7.1.1->-r requirements.txt (line 11)) (19.3.0)\n",
      "Requirement already satisfied: tomli>=1.0.0 in /root/.local/lib/python3.7/site-packages (from pytest==7.1.1->-r requirements.txt (line 11)) (2.0.1)\n",
      "Requirement already satisfied: py>=1.8.2 in /root/.local/lib/python3.7/site-packages (from pytest==7.1.1->-r requirements.txt (line 11)) (1.11.0)\n",
      "Requirement already satisfied: pluggy<2.0,>=0.12 in /root/.local/lib/python3.7/site-packages (from pytest==7.1.1->-r requirements.txt (line 11)) (1.2.0)\n",
      "Requirement already satisfied: importlib-metadata>=0.12; python_version < \"3.8\" in /opt/conda/lib/python3.7/site-packages (from pytest==7.1.1->-r requirements.txt (line 11)) (1.5.0)\n",
      "Requirement already satisfied: iniconfig in /root/.local/lib/python3.7/site-packages (from pytest==7.1.1->-r requirements.txt (line 11)) (2.0.0)\n",
      "Requirement already satisfied: pytz>=2017.3 in /opt/conda/lib/python3.7/site-packages (from pandas==1.3.5->-r requirements.txt (line 12)) (2019.3)\n",
      "Requirement already satisfied: scipy>=1.0 in /opt/conda/lib/python3.7/site-packages (from seaborn==0.11.2->-r requirements.txt (line 13)) (1.7.1)\n",
      "Requirement already satisfied: jupyter-console in /root/.local/lib/python3.7/site-packages (from jupyter==1.0.0->-r requirements.txt (line 14)) (6.6.3)\n",
      "Requirement already satisfied: nbconvert in /opt/conda/lib/python3.7/site-packages (from jupyter==1.0.0->-r requirements.txt (line 14)) (5.6.1)\n",
      "Requirement already satisfied: notebook in /opt/conda/lib/python3.7/site-packages (from jupyter==1.0.0->-r requirements.txt (line 14)) (5.7.4)\n",
      "Requirement already satisfied: qtconsole in /root/.local/lib/python3.7/site-packages (from jupyter==1.0.0->-r requirements.txt (line 14)) (5.4.4)\n",
      "Requirement already satisfied: jupyter-client in /opt/conda/lib/python3.7/site-packages (from ipykernel==4.10.0->-r requirements.txt (line 15)) (6.0.0)\n",
      "Requirement already satisfied: setuptools in /opt/conda/lib/python3.7/site-packages (from kiwisolver>=1.0.1->matplotlib==3.4.3->-r requirements.txt (line 2)) (45.2.0.post20200209)\n",
      "Requirement already satisfied: six in /opt/conda/lib/python3.7/site-packages (from cycler>=0.10->matplotlib==3.4.3->-r requirements.txt (line 2)) (1.16.0)\n",
      "Requirement already satisfied: MarkupSafe>=0.23 in /opt/conda/lib/python3.7/site-packages (from Jinja2>=2.7->bokeh==2.1.1->-r requirements.txt (line 5)) (1.1.1)\n",
      "Requirement already satisfied: idna<3,>=2.5 in /opt/conda/lib/python3.7/site-packages (from requests->torchvision==0.12.0->-r requirements.txt (line 7)) (2.9)\n",
      "Requirement already satisfied: chardet<4,>=3.0.2 in /opt/conda/lib/python3.7/site-packages (from requests->torchvision==0.12.0->-r requirements.txt (line 7)) (3.0.4)\n",
      "Requirement already satisfied: certifi>=2017.4.17 in /opt/conda/lib/python3.7/site-packages (from requests->torchvision==0.12.0->-r requirements.txt (line 7)) (2019.11.28)\n",
      "Requirement already satisfied: urllib3!=1.25.0,!=1.25.1,<1.26,>=1.21.1 in /opt/conda/lib/python3.7/site-packages (from requests->torchvision==0.12.0->-r requirements.txt (line 7)) (1.25.7)\n",
      "Requirement already satisfied: decorator in /opt/conda/lib/python3.7/site-packages (from traitlets>=4.3.1->ipywidgets==7.7.0->-r requirements.txt (line 9)) (4.4.2)\n",
      "Requirement already satisfied: pygments in /opt/conda/lib/python3.7/site-packages (from ipython>=4.0.0; python_version >= \"3.3\"->ipywidgets==7.7.0->-r requirements.txt (line 9)) (2.5.2)\n",
      "Requirement already satisfied: pexpect; sys_platform != \"win32\" in /opt/conda/lib/python3.7/site-packages (from ipython>=4.0.0; python_version >= \"3.3\"->ipywidgets==7.7.0->-r requirements.txt (line 9)) (4.8.0)\n",
      "Requirement already satisfied: jedi>=0.10 in /opt/conda/lib/python3.7/site-packages (from ipython>=4.0.0; python_version >= \"3.3\"->ipywidgets==7.7.0->-r requirements.txt (line 9)) (0.16.0)\n",
      "Requirement already satisfied: backcall in /opt/conda/lib/python3.7/site-packages (from ipython>=4.0.0; python_version >= \"3.3\"->ipywidgets==7.7.0->-r requirements.txt (line 9)) (0.1.0)\n",
      "Requirement already satisfied: pickleshare in /opt/conda/lib/python3.7/site-packages (from ipython>=4.0.0; python_version >= \"3.3\"->ipywidgets==7.7.0->-r requirements.txt (line 9)) (0.7.5)\n",
      "Requirement already satisfied: prompt-toolkit!=3.0.0,!=3.0.1,<3.1.0,>=2.0.0 in /opt/conda/lib/python3.7/site-packages (from ipython>=4.0.0; python_version >= \"3.3\"->ipywidgets==7.7.0->-r requirements.txt (line 9)) (3.0.3)\n",
      "Requirement already satisfied: jsonschema!=2.5.0,>=2.4 in /opt/conda/lib/python3.7/site-packages (from nbformat>=4.2.0->ipywidgets==7.7.0->-r requirements.txt (line 9)) (3.2.0)\n"
     ]
    },
    {
     "name": "stdout",
     "output_type": "stream",
     "text": [
      "Requirement already satisfied: jupyter-core in /opt/conda/lib/python3.7/site-packages (from nbformat>=4.2.0->ipywidgets==7.7.0->-r requirements.txt (line 9)) (4.6.3)\n",
      "Requirement already satisfied: zipp>=0.5 in /opt/conda/lib/python3.7/site-packages (from importlib-metadata>=0.12; python_version < \"3.8\"->pytest==7.1.1->-r requirements.txt (line 11)) (3.0.0)\n",
      "Requirement already satisfied: pyzmq>=17 in /opt/conda/lib/python3.7/site-packages (from jupyter-console->jupyter==1.0.0->-r requirements.txt (line 14)) (19.0.0)\n",
      "Requirement already satisfied: pandocfilters>=1.4.1 in /opt/conda/lib/python3.7/site-packages (from nbconvert->jupyter==1.0.0->-r requirements.txt (line 14)) (1.4.2)\n",
      "Requirement already satisfied: mistune<2,>=0.8.1 in /opt/conda/lib/python3.7/site-packages (from nbconvert->jupyter==1.0.0->-r requirements.txt (line 14)) (0.8.4)\n",
      "Requirement already satisfied: entrypoints>=0.2.2 in /opt/conda/lib/python3.7/site-packages (from nbconvert->jupyter==1.0.0->-r requirements.txt (line 14)) (0.3)\n",
      "Requirement already satisfied: testpath in /opt/conda/lib/python3.7/site-packages (from nbconvert->jupyter==1.0.0->-r requirements.txt (line 14)) (0.4.4)\n",
      "Requirement already satisfied: defusedxml in /opt/conda/lib/python3.7/site-packages (from nbconvert->jupyter==1.0.0->-r requirements.txt (line 14)) (0.6.0)\n",
      "Requirement already satisfied: bleach in /opt/conda/lib/python3.7/site-packages (from nbconvert->jupyter==1.0.0->-r requirements.txt (line 14)) (3.1.1)\n",
      "Requirement already satisfied: terminado>=0.8.1 in /opt/conda/lib/python3.7/site-packages (from notebook->jupyter==1.0.0->-r requirements.txt (line 14)) (0.8.3)\n",
      "Requirement already satisfied: Send2Trash in /opt/conda/lib/python3.7/site-packages (from notebook->jupyter==1.0.0->-r requirements.txt (line 14)) (1.5.0)\n",
      "Requirement already satisfied: prometheus-client in /opt/conda/lib/python3.7/site-packages (from notebook->jupyter==1.0.0->-r requirements.txt (line 14)) (0.7.1)\n",
      "Requirement already satisfied: qtpy>=2.4.0 in /root/.local/lib/python3.7/site-packages (from qtconsole->jupyter==1.0.0->-r requirements.txt (line 14)) (2.4.1)\n",
      "Requirement already satisfied: ptyprocess>=0.5 in /opt/conda/lib/python3.7/site-packages (from pexpect; sys_platform != \"win32\"->ipython>=4.0.0; python_version >= \"3.3\"->ipywidgets==7.7.0->-r requirements.txt (line 9)) (0.6.0)\n",
      "Requirement already satisfied: parso>=0.5.2 in /opt/conda/lib/python3.7/site-packages (from jedi>=0.10->ipython>=4.0.0; python_version >= \"3.3\"->ipywidgets==7.7.0->-r requirements.txt (line 9)) (0.6.1)\n",
      "Requirement already satisfied: wcwidth in /opt/conda/lib/python3.7/site-packages (from prompt-toolkit!=3.0.0,!=3.0.1,<3.1.0,>=2.0.0->ipython>=4.0.0; python_version >= \"3.3\"->ipywidgets==7.7.0->-r requirements.txt (line 9)) (0.1.8)\n",
      "Requirement already satisfied: pyrsistent>=0.14.0 in /opt/conda/lib/python3.7/site-packages (from jsonschema!=2.5.0,>=2.4->nbformat>=4.2.0->ipywidgets==7.7.0->-r requirements.txt (line 9)) (0.15.7)\n",
      "Requirement already satisfied: webencodings in /opt/conda/lib/python3.7/site-packages (from bleach->nbconvert->jupyter==1.0.0->-r requirements.txt (line 14)) (0.5.1)\n"
     ]
    }
   ],
   "source": [
    "# Install requirements\n",
    "!python -m pip install -r requirements.txt"
   ]
  },
  {
   "cell_type": "markdown",
   "metadata": {},
   "source": [
    "## Imports"
   ]
  },
  {
   "cell_type": "code",
   "execution_count": 2,
   "metadata": {},
   "outputs": [],
   "source": [
    "## This cell contains the essential imports you will need – DO NOT CHANGE THE CONTENTS! ##\n",
    "import torch\n",
    "import torch.nn as nn\n",
    "import torch.nn.functional as F\n",
    "import torch.optim as optim\n",
    "import torchvision\n",
    "import torchvision.transforms as transforms\n",
    "from torchvision import datasets\n",
    "from torch.utils.data import DataLoader, random_split\n",
    "import matplotlib.pyplot as plt\n",
    "import numpy as np"
   ]
  },
  {
   "cell_type": "code",
   "execution_count": 3,
   "metadata": {},
   "outputs": [
    {
     "data": {
      "text/plain": [
       "device(type='cpu')"
      ]
     },
     "execution_count": 3,
     "metadata": {},
     "output_type": "execute_result"
    }
   ],
   "source": [
    "device = torch.device('cuda' if torch.cuda.is_available() else 'cpu')\n",
    "device"
   ]
  },
  {
   "cell_type": "markdown",
   "metadata": {},
   "source": [
    "## Load the Dataset\n",
    "\n",
    "Specify your transforms as a list if you intend to .\n",
    "The transforms module is already loaded as `transforms`.\n",
    "\n",
    "MNIST is fortunately included in the torchvision module.\n",
    "Then, you can create your dataset using the `MNIST` object from `torchvision.datasets` ([the documentation is available here](https://pytorch.org/vision/stable/datasets.html#mnist)).\n",
    "Make sure to specify `download=True`! \n",
    "\n",
    "Once your dataset is created, you'll also need to define a `DataLoader` from the `torch.utils.data` module for both the train and the test set."
   ]
  },
  {
   "cell_type": "code",
   "execution_count": 4,
   "metadata": {},
   "outputs": [
    {
     "name": "stdout",
     "output_type": "stream",
     "text": [
      "Downloading http://yann.lecun.com/exdb/mnist/train-images-idx3-ubyte.gz\n",
      "Failed to download (trying next):\n",
      "HTTP Error 403: Forbidden\n",
      "\n",
      "Downloading https://ossci-datasets.s3.amazonaws.com/mnist/train-images-idx3-ubyte.gz\n",
      "Downloading https://ossci-datasets.s3.amazonaws.com/mnist/train-images-idx3-ubyte.gz to data/MNIST/raw/train-images-idx3-ubyte.gz\n"
     ]
    },
    {
     "name": "stderr",
     "output_type": "stream",
     "text": [
      "100%|████████████████████████████████████████████████████████████████████| 9912422/9912422 [00:06<00:00, 1423594.15it/s]\n"
     ]
    },
    {
     "name": "stdout",
     "output_type": "stream",
     "text": [
      "Extracting data/MNIST/raw/train-images-idx3-ubyte.gz to data/MNIST/raw\n",
      "\n",
      "Downloading http://yann.lecun.com/exdb/mnist/train-labels-idx1-ubyte.gz\n",
      "Failed to download (trying next):\n",
      "HTTP Error 403: Forbidden\n",
      "\n",
      "Downloading https://ossci-datasets.s3.amazonaws.com/mnist/train-labels-idx1-ubyte.gz\n",
      "Downloading https://ossci-datasets.s3.amazonaws.com/mnist/train-labels-idx1-ubyte.gz to data/MNIST/raw/train-labels-idx1-ubyte.gz\n"
     ]
    },
    {
     "name": "stderr",
     "output_type": "stream",
     "text": [
      "100%|█████████████████████████████████████████████████████████████████████████| 28881/28881 [00:00<00:00, 316587.85it/s]\n"
     ]
    },
    {
     "name": "stdout",
     "output_type": "stream",
     "text": [
      "Extracting data/MNIST/raw/train-labels-idx1-ubyte.gz to data/MNIST/raw\n",
      "\n",
      "Downloading http://yann.lecun.com/exdb/mnist/t10k-images-idx3-ubyte.gz\n",
      "Failed to download (trying next):\n",
      "HTTP Error 403: Forbidden\n",
      "\n",
      "Downloading https://ossci-datasets.s3.amazonaws.com/mnist/t10k-images-idx3-ubyte.gz\n",
      "Downloading https://ossci-datasets.s3.amazonaws.com/mnist/t10k-images-idx3-ubyte.gz to data/MNIST/raw/t10k-images-idx3-ubyte.gz\n"
     ]
    },
    {
     "name": "stderr",
     "output_type": "stream",
     "text": [
      "100%|████████████████████████████████████████████████████████████████████| 1648877/1648877 [00:01<00:00, 1104256.37it/s]\n"
     ]
    },
    {
     "name": "stdout",
     "output_type": "stream",
     "text": [
      "Extracting data/MNIST/raw/t10k-images-idx3-ubyte.gz to data/MNIST/raw\n",
      "\n",
      "Downloading http://yann.lecun.com/exdb/mnist/t10k-labels-idx1-ubyte.gz\n",
      "Failed to download (trying next):\n",
      "HTTP Error 403: Forbidden\n",
      "\n",
      "Downloading https://ossci-datasets.s3.amazonaws.com/mnist/t10k-labels-idx1-ubyte.gz\n",
      "Downloading https://ossci-datasets.s3.amazonaws.com/mnist/t10k-labels-idx1-ubyte.gz to data/MNIST/raw/t10k-labels-idx1-ubyte.gz\n"
     ]
    },
    {
     "name": "stderr",
     "output_type": "stream",
     "text": [
      "100%|█████████████████████████████████████████████████████████████████████████| 4542/4542 [00:00<00:00, 10836478.25it/s]"
     ]
    },
    {
     "name": "stdout",
     "output_type": "stream",
     "text": [
      "Extracting data/MNIST/raw/t10k-labels-idx1-ubyte.gz to data/MNIST/raw\n",
      "\n"
     ]
    },
    {
     "name": "stderr",
     "output_type": "stream",
     "text": [
      "\n"
     ]
    }
   ],
   "source": [
    "# Define transformations.\n",
    "transform = transforms.Compose([\n",
    "    transforms.ToTensor(), # Converts to PyTorch tensor.\n",
    "    transforms.Normalize((0.5,), (0.5,)) # Normalizing the data here to shifts pixel values to [-1, 1] to help the neural network learn.\n",
    "])\n",
    "\n",
    "# Create the full training set.\n",
    "full_train_dataset = datasets.MNIST(root=\"data\", train=True, download=True, transform=transform)\n",
    "\n",
    "# Define the sizes for the training (80%) and validation (20%) sets.\n",
    "train_split_percentage = 0.8\n",
    "train_size = int(len(full_train_dataset) * train_split_percentage)\n",
    "validation_size = len(full_train_dataset) - train_size\n",
    "\n",
    "# Split the data into training and validation sets and define the dataloaders.\n",
    "train_dataset, validation_dataset = random_split(full_train_dataset, [train_size, validation_size])\n",
    "train_loader = DataLoader(train_dataset, batch_size=32, shuffle=True)\n",
    "validation_loader = DataLoader(validation_dataset, batch_size=32, shuffle=False)\n",
    "\n",
    "# Create test set and define test dataloader.\n",
    "test_dataset = datasets.MNIST(root=\"data\", train=False, download=True, transform=transform)\n",
    "test_loader = DataLoader(test_dataset, batch_size=32, shuffle=False)"
   ]
  },
  {
   "cell_type": "markdown",
   "metadata": {},
   "source": [
    "## Justify your preprocessing\n",
    "\n",
    "In your own words, why did you choose the transforms you chose? If you didn't use any preprocessing steps, why not?"
   ]
  },
  {
   "cell_type": "markdown",
   "metadata": {},
   "source": [
    "**DOUBLE CLICK THIS CELL TO MODIFY**\n",
    "\n",
    "transforms.ToTensor(): The image data has to be converted into tensors so it can be input into the nueral network.\n",
    "\n",
    "transforms.Normalize((0.5, ), (0.5, )): Normalizes values from range [0, 1] to [-1, 1] which should help the neural network train."
   ]
  },
  {
   "cell_type": "markdown",
   "metadata": {},
   "source": [
    "## Explore the Dataset\n",
    "Using matplotlib, numpy, and torch, explore the dimensions of your data.\n",
    "\n",
    "You can view images using the `show5` function defined below – it takes a data loader as an argument.\n",
    "Remember that normalized images will look really weird to you! You may want to try changing your transforms to view images.\n",
    "Typically using no transforms other than `toTensor()` works well for viewing – but not as well for training your network.\n",
    "If `show5` doesn't work, go back and check your code for creating your data loaders and your training/test sets."
   ]
  },
  {
   "cell_type": "code",
   "execution_count": 5,
   "metadata": {},
   "outputs": [],
   "source": [
    "## This cell contains a function for showing 5 images from a dataloader – DO NOT CHANGE THE CONTENTS! ##\n",
    "def show5(img_loader):\n",
    "    dataiter = iter(img_loader)\n",
    "    \n",
    "    batch = next(dataiter)\n",
    "    labels = batch[1][0:5]\n",
    "    images = batch[0][0:5]\n",
    "    for i in range(5):\n",
    "        print(int(labels[i].detach()))\n",
    "    \n",
    "        image = images[i].numpy()\n",
    "        plt.imshow(image.transpose(1,2,0).T.squeeze().T)\n",
    "        plt.show()"
   ]
  },
  {
   "cell_type": "code",
   "execution_count": 6,
   "metadata": {},
   "outputs": [
    {
     "name": "stdout",
     "output_type": "stream",
     "text": [
      "8\n"
     ]
    },
    {
     "data": {
      "image/png": "[encoded data removed]",
      "text/plain": [
       "<Figure size 640x480 with 1 Axes>"
      ]
     },
     "metadata": {},
     "output_type": "display_data"
    },
    {
     "name": "stdout",
     "output_type": "stream",
     "text": [
      "8\n"
     ]
    },
    {
     "data": {
      "image/png": "[encoded data removed]",
      "text/plain": [
       "<Figure size 640x480 with 1 Axes>"
      ]
     },
     "metadata": {},
     "output_type": "display_data"
    },
    {
     "name": "stdout",
     "output_type": "stream",
     "text": [
      "1\n"
     ]
    },
    {
     "data": {
      "image/png": "[encoded data removed]",
      "text/plain": [
       "<Figure size 640x480 with 1 Axes>"
      ]
     },
     "metadata": {},
     "output_type": "display_data"
    },
    {
     "name": "stdout",
     "output_type": "stream",
     "text": [
      "3\n"
     ]
    },
    {
     "data": {
      "image/png": "[encoded data removed]",
      "text/plain": [
       "<Figure size 640x480 with 1 Axes>"
      ]
     },
     "metadata": {},
     "output_type": "display_data"
    },
    {
     "name": "stdout",
     "output_type": "stream",
     "text": [
      "9\n"
     ]
    },
    {
     "data": {
      "image/png": "[encoded data removed]",
      "text/plain": [
       "<Figure size 640x480 with 1 Axes>"
      ]
     },
     "metadata": {},
     "output_type": "display_data"
    },
    {
     "name": "stdout",
     "output_type": "stream",
     "text": [
      "Max pixel value: 1.0\n",
      "Min pixel value: -1.0\n",
      "Training dataset size: 48000\n",
      "Shape of train_images: torch.Size([32, 1, 28, 28])\n",
      "Shape of train_labels: torch.Size([32])\n"
     ]
    }
   ],
   "source": [
    "# Show the first 5 images and their associated labels.\n",
    "show5(train_loader)\n",
    "\n",
    "# Get one batch of data.\n",
    "data_iter = iter(train_loader)\n",
    "images, labels = next(data_iter)\n",
    "\n",
    "# Check the range of pixel values (should be in range [-1, 1]).\n",
    "print(\"Max pixel value:\", images.max().item())\n",
    "print(\"Min pixel value:\", images.min().item())\n",
    "\n",
    "# View the dimensions of the training set.\n",
    "print(\"Training dataset size:\", len(train_dataset))\n",
    "train_images, train_labels = next(iter(train_loader))\n",
    "print(\"Shape of train_images:\", train_images.shape)\n",
    "print(\"Shape of train_labels:\", train_labels.shape)"
   ]
  },
  {
   "cell_type": "code",
   "execution_count": 7,
   "metadata": {},
   "outputs": [
    {
     "name": "stdout",
     "output_type": "stream",
     "text": [
      "5\n"
     ]
    },
    {
     "data": {
      "image/png": "[encoded data removed]",
      "text/plain": [
       "<Figure size 640x480 with 1 Axes>"
      ]
     },
     "metadata": {},
     "output_type": "display_data"
    },
    {
     "name": "stdout",
     "output_type": "stream",
     "text": [
      "1\n"
     ]
    },
    {
     "data": {
      "image/png": "[encoded data removed]",
      "text/plain": [
       "<Figure size 640x480 with 1 Axes>"
      ]
     },
     "metadata": {},
     "output_type": "display_data"
    },
    {
     "name": "stdout",
     "output_type": "stream",
     "text": [
      "8\n"
     ]
    },
    {
     "data": {
      "image/png": "[encoded data removed]",
      "text/plain": [
       "<Figure size 640x480 with 1 Axes>"
      ]
     },
     "metadata": {},
     "output_type": "display_data"
    },
    {
     "name": "stdout",
     "output_type": "stream",
     "text": [
      "7\n"
     ]
    },
    {
     "data": {
      "image/png": "[encoded data removed]",
      "text/plain": [
       "<Figure size 640x480 with 1 Axes>"
      ]
     },
     "metadata": {},
     "output_type": "display_data"
    },
    {
     "name": "stdout",
     "output_type": "stream",
     "text": [
      "1\n"
     ]
    },
    {
     "data": {
      "image/png": "[encoded data removed]",
      "text/plain": [
       "<Figure size 640x480 with 1 Axes>"
      ]
     },
     "metadata": {},
     "output_type": "display_data"
    }
   ],
   "source": [
    "show5(validation_loader)"
   ]
  },
  {
   "cell_type": "code",
   "execution_count": 8,
   "metadata": {},
   "outputs": [
    {
     "name": "stdout",
     "output_type": "stream",
     "text": [
      "7\n"
     ]
    },
    {
     "data": {
      "image/png": "[encoded data removed]",
      "text/plain": [
       "<Figure size 640x480 with 1 Axes>"
      ]
     },
     "metadata": {},
     "output_type": "display_data"
    },
    {
     "name": "stdout",
     "output_type": "stream",
     "text": [
      "2\n"
     ]
    },
    {
     "data": {
      "image/png": "[encoded data removed]",
      "text/plain": [
       "<Figure size 640x480 with 1 Axes>"
      ]
     },
     "metadata": {},
     "output_type": "display_data"
    },
    {
     "name": "stdout",
     "output_type": "stream",
     "text": [
      "1\n"
     ]
    },
    {
     "data": {
      "image/png": "[encoded data removed]",
      "text/plain": [
       "<Figure size 640x480 with 1 Axes>"
      ]
     },
     "metadata": {},
     "output_type": "display_data"
    },
    {
     "name": "stdout",
     "output_type": "stream",
     "text": [
      "0\n"
     ]
    },
    {
     "data": {
      "image/png": "[encoded data removed]",
      "text/plain": [
       "<Figure size 640x480 with 1 Axes>"
      ]
     },
     "metadata": {},
     "output_type": "display_data"
    },
    {
     "name": "stdout",
     "output_type": "stream",
     "text": [
      "4\n"
     ]
    },
    {
     "data": {
      "image/png": "[encoded data removed]",
      "text/plain": [
       "<Figure size 640x480 with 1 Axes>"
      ]
     },
     "metadata": {},
     "output_type": "display_data"
    },
    {
     "name": "stdout",
     "output_type": "stream",
     "text": [
      "Test dataset size: 10000\n",
      "Shape of test_images: torch.Size([32, 1, 28, 28])\n",
      "Shape of test_labels: torch.Size([32])\n"
     ]
    }
   ],
   "source": [
    "show5(test_loader)\n",
    "\n",
    "# View the dimensions of the test dataset.\n",
    "print(\"Test dataset size:\", len(test_dataset))\n",
    "test_images, test_labels = next(iter(test_loader))\n",
    "print(\"Shape of test_images:\", test_images.shape)\n",
    "print(\"Shape of test_labels:\", test_labels.shape)"
   ]
  },
  {
   "cell_type": "markdown",
   "metadata": {},
   "source": [
    "## Build your Neural Network\n",
    "Using the layers in `torch.nn` (which has been imported as `nn`) and the `torch.nn.functional` module (imported as `F`), construct a neural network based on the parameters of the dataset.\n",
    "Use any architecture you like. \n",
    "\n",
    "*Note*: If you did not flatten your tensors in your transforms or as part of your preprocessing and you are using only `Linear` layers, make sure to use the `Flatten` layer in your network!"
   ]
  },
  {
   "cell_type": "code",
   "execution_count": 9,
   "metadata": {},
   "outputs": [
    {
     "data": {
      "text/plain": [
       "Net(\n",
       "  (conv_layer1): Conv2d(1, 6, kernel_size=(5, 5), stride=(1, 1), padding=(2, 2))\n",
       "  (pool): MaxPool2d(kernel_size=2, stride=2, padding=0, dilation=1, ceil_mode=False)\n",
       "  (conv_layer2): Conv2d(6, 16, kernel_size=(5, 5), stride=(1, 1), padding=(2, 2))\n",
       "  (fully_connnected_layer1): Linear(in_features=784, out_features=256, bias=True)\n",
       "  (dropout): Dropout(p=0.2, inplace=False)\n",
       "  (fully_connected_layer2): Linear(in_features=256, out_features=10, bias=True)\n",
       ")"
      ]
     },
     "execution_count": 9,
     "metadata": {},
     "output_type": "execute_result"
    }
   ],
   "source": [
    "# Define the class for your neural network.\n",
    "# Network consists of two convolutional layers (ReLU activation) and 2 fully connected layers.\n",
    "class Net(nn.Module):\n",
    "    def __init__(self):\n",
    "        super().__init__()\n",
    "        self.conv_layer1 = nn.Conv2d(1, 6, 5, padding=2)\n",
    "        self.pool = nn.MaxPool2d(2, 2)\n",
    "        self.conv_layer2 = nn.Conv2d(6, 16, 5, padding=2)\n",
    "        self.fully_connnected_layer1 = nn.Linear(16 * 7 * 7, 256)\n",
    "        self.dropout = nn.Dropout(0.2)\n",
    "        self.fully_connected_layer2 = nn.Linear(256, 10)\n",
    "\n",
    "    def forward(self, x):\n",
    "        x = self.pool(F.relu(self.conv_layer1(x)))\n",
    "        x = self.pool(F.relu(self.conv_layer2(x)))\n",
    "        x = torch.flatten(x, 1) # flatten all dimensions except batch\n",
    "        x = F.relu(self.fully_connnected_layer1(x))\n",
    "        x = self.dropout(x)\n",
    "        x = self.fully_connected_layer2(x)\n",
    "        return x\n",
    "\n",
    "# Instantiate the model.\n",
    "net = Net()\n",
    "net.to(device)"
   ]
  },
  {
   "cell_type": "markdown",
   "metadata": {},
   "source": [
    "Specify a loss function and an optimizer, and instantiate the model.\n",
    "\n",
    "If you use a less common loss function, please note why you chose that loss function in a comment."
   ]
  },
  {
   "cell_type": "code",
   "execution_count": 10,
   "metadata": {},
   "outputs": [],
   "source": [
    "# Use Stochastic Gradient Descent (SGD) optimizer.\n",
    "optimizer = optim.SGD(net.parameters(), lr=0.0001, momentum=0.9, weight_decay=1e-5)\n",
    "\n",
    "# Use Cross Entropy Loss since it's widely used for multi-class classification problems.\n",
    "criterion = nn.CrossEntropyLoss()"
   ]
  },
  {
   "cell_type": "markdown",
   "metadata": {},
   "source": [
    "## Running your Neural Network\n",
    "Use whatever method you like to train your neural network, and ensure you record the average loss at each epoch. \n",
    "Don't forget to use `torch.device()` and the `.to()` method for both your model and your data if you are using GPU!\n",
    "\n",
    "If you want to print your loss **during** each epoch, you can use the `enumerate` function and print the loss after a set number of batches. 250 batches works well for most people!"
   ]
  },
  {
   "cell_type": "code",
   "execution_count": 11,
   "metadata": {},
   "outputs": [],
   "source": [
    "## Trains the neural network and returns the training accuracy and loss percentages.\n",
    "def train(net, train_loader, optimizer, criterion, device):\n",
    "    net.train()\n",
    "    train_loss = 0.0\n",
    "    train_correct = 0\n",
    "    \n",
    "    for inputs, labels in train_loader:\n",
    "        inputs, labels = inputs.to(device), labels.to(device)\n",
    "\n",
    "        # Zero out the gradients of the optimizer.\n",
    "        optimizer.zero_grad()\n",
    "\n",
    "        # Get the outputs and compute loss.\n",
    "        outputs = net(inputs)\n",
    "        loss = criterion(outputs, labels)\n",
    "        \n",
    "        # Compute the loss gradient using the backward method.\n",
    "        loss.backward()\n",
    "        \n",
    "        # Update the parameters by taking a step with the optimizer.\n",
    "        optimizer.step()\n",
    "\n",
    "        # Compute the accuracy and loss.\n",
    "        _, preds = torch.max(outputs.data, 1)\n",
    "        train_correct += (preds == labels).sum().item()\n",
    "        train_loss += loss.item()\n",
    "    \n",
    "    # Compute the accuracy and loss.\n",
    "    train_accuracy_percent = (train_correct/len(train_loader.dataset))*100\n",
    "    train_loss_percent = (train_loss/len(train_loader.dataset))*100\n",
    "\n",
    "    return train_accuracy_percent, train_loss_percent"
   ]
  },
  {
   "cell_type": "code",
   "execution_count": 12,
   "metadata": {},
   "outputs": [],
   "source": [
    "## Validates the neural network and returns the validation accuracy and loss percentages.\n",
    "def validate(net, validation_loader, criterion, device):\n",
    "    val_loss = 0.0\n",
    "    val_correct = 0\n",
    "    net.eval()\n",
    "    for inputs, labels in validation_loader:\n",
    "        inputs, labels = inputs.to(device), labels.to(device)\n",
    "        \n",
    "        # Get the outputs and compute loss.\n",
    "        outputs = net(inputs)\n",
    "        loss = criterion(outputs, labels)\n",
    "\n",
    "        # Compute the accuracy and loss.\n",
    "        _, preds = torch.max(outputs.data, 1)\n",
    "        val_correct += (preds == labels).sum().item()\n",
    "        val_loss += loss.item()\n",
    "    \n",
    "    # Compute the accuracy and loss.\n",
    "    validation_accuracy_percent = (val_correct/len(validation_loader.dataset))*100\n",
    "    validation_loss_percent = (val_loss/len(validation_loader.dataset))*100\n",
    "        \n",
    "    return validation_accuracy_percent, validation_loss_percent"
   ]
  },
  {
   "cell_type": "code",
   "execution_count": 13,
   "metadata": {},
   "outputs": [
    {
     "name": "stdout",
     "output_type": "stream",
     "text": [
      "Epoch 1 training accuracy: 24.99% training loss: 7.03576\n",
      "Epoch 1 validation accuracy: 51.78% validation loss: 6.75592\n",
      "Epoch 2 training accuracy: 60.07% training loss: 5.37528\n",
      "Epoch 2 validation accuracy: 79.42% validation loss: 2.99646\n",
      "Epoch 3 training accuracy: 81.44% training loss: 2.08039\n",
      "Epoch 3 validation accuracy: 87.02% validation loss: 1.43408\n",
      "Epoch 4 training accuracy: 87.48% training loss: 1.32660\n",
      "Epoch 4 validation accuracy: 90.01% validation loss: 1.07737\n",
      "Epoch 5 training accuracy: 89.90% training loss: 1.05039\n",
      "Epoch 5 validation accuracy: 91.54% validation loss: 0.90469\n",
      "Epoch 6 training accuracy: 91.59% training loss: 0.88487\n",
      "Epoch 6 validation accuracy: 92.69% validation loss: 0.78087\n",
      "Epoch 7 training accuracy: 92.68% training loss: 0.76295\n",
      "Epoch 7 validation accuracy: 93.45% validation loss: 0.69031\n",
      "Epoch 8 training accuracy: 93.51% training loss: 0.67495\n",
      "Epoch 8 validation accuracy: 94.17% validation loss: 0.62170\n",
      "Epoch 9 training accuracy: 94.21% training loss: 0.60382\n",
      "Epoch 9 validation accuracy: 94.58% validation loss: 0.56655\n",
      "Epoch 10 training accuracy: 94.72% training loss: 0.55378\n",
      "Epoch 10 validation accuracy: 95.07% validation loss: 0.52539\n"
     ]
    }
   ],
   "source": [
    "num_epochs = 10\n",
    "\n",
    "# Establish a list for our history.\n",
    "train_loss_history = list()\n",
    "val_loss_history = list()\n",
    "\n",
    "# For each epoch train and validate the neural network.\n",
    "for epoch in range(num_epochs):\n",
    "    train_accuracy_percent, train_loss_percent = train(net, train_loader, optimizer, criterion, device)\n",
    "    print(f'Epoch {epoch + 1} training accuracy: {train_accuracy_percent:.2f}% training loss: {train_loss_percent:.5f}')\n",
    "    train_loss_history.append(train_loss_percent)\n",
    "    \n",
    "    validation_accuracy_percent, validation_loss_percent = validate(net, validation_loader, criterion, device)\n",
    "    print(f'Epoch {epoch + 1} validation accuracy: {validation_accuracy_percent:.2f}% validation loss: {validation_loss_percent:.5f}')\n",
    "    val_loss_history.append(validation_loss_percent)"
   ]
  },
  {
   "cell_type": "markdown",
   "metadata": {},
   "source": [
    "Plot the training loss (and validation loss/accuracy, if recorded)."
   ]
  },
  {
   "cell_type": "code",
   "execution_count": 14,
   "metadata": {},
   "outputs": [
    {
     "data": {
      "image/png": "[encoded data removed]",
      "text/plain": [
       "<Figure size 640x480 with 1 Axes>"
      ]
     },
     "metadata": {},
     "output_type": "display_data"
    }
   ],
   "source": [
    "# Plot the training and validation loss history.\n",
    "plt.plot(train_loss_history, label=\"Training Loss\")\n",
    "plt.plot(val_loss_history, label=\"Validation Loss\")\n",
    "plt.legend()\n",
    "plt.show()"
   ]
  },
  {
   "cell_type": "markdown",
   "metadata": {},
   "source": [
    "## Testing your model\n",
    "Using the previously created `DataLoader` for the test set, compute the percentage of correct predictions using the highest probability prediction. \n",
    "\n",
    "If your accuracy is over 90%, great work, but see if you can push a bit further! \n",
    "If your accuracy is under 90%, you'll need to make improvements.\n",
    "Go back and check your model architecture, loss function, and optimizer to make sure they're appropriate for an image classification task."
   ]
  },
  {
   "cell_type": "code",
   "execution_count": 15,
   "metadata": {},
   "outputs": [],
   "source": [
    "def test(net, test_loader, criterion, device):\n",
    "    test_loss = 0.0\n",
    "    test_correct = 0\n",
    "    net.eval()\n",
    "    \n",
    "    for inputs, labels in test_loader:\n",
    "        inputs, labels = inputs.to(device), labels.to(device)\n",
    "\n",
    "        outputs = net(inputs)\n",
    "        loss = criterion(outputs, labels)\n",
    "\n",
    "        _, preds = torch.max(outputs.data, 1)\n",
    "        test_correct += (preds == labels).sum().item()\n",
    "        test_loss += loss.item()\n",
    "        \n",
    "    test_accuracy_percent = (test_correct/len(test_loader.dataset))*100\n",
    "    test_loss_percent = (test_loss/len(test_loader.dataset))*100\n",
    "        \n",
    "    return test_accuracy_percent, test_loss_percent"
   ]
  },
  {
   "cell_type": "code",
   "execution_count": 16,
   "metadata": {},
   "outputs": [
    {
     "name": "stdout",
     "output_type": "stream",
     "text": [
      "Testing accuracy: 95.55% testing loss: 0.45\n"
     ]
    }
   ],
   "source": [
    "test_accuracy_percent, test_loss_percent = test(net, test_loader, criterion, device)\n",
    "\n",
    "# Print testing accuracy to the notebook.\n",
    "print(f'Testing accuracy: {test_accuracy_percent:.2f}% testing loss: {test_loss_percent:.2f}')"
   ]
  },
  {
   "cell_type": "markdown",
   "metadata": {},
   "source": [
    "## Improving your model\n",
    "\n",
    "Once your model is done training, try tweaking your hyperparameters and training again below to improve your accuracy on the test set!"
   ]
  },
  {
   "cell_type": "code",
   "execution_count": 17,
   "metadata": {},
   "outputs": [],
   "source": [
    "# Initialize a new neural network.\n",
    "net = Net()\n",
    "net.to(device)\n",
    "\n",
    "# Optimizer updates: learning rate 0.0001 to 0.0003 and momentum from 0.9 to 0.92.\n",
    "optimizer = optim.SGD(net.parameters(), lr=0.0003, momentum=0.92, weight_decay=1e-5)"
   ]
  },
  {
   "cell_type": "code",
   "execution_count": 18,
   "metadata": {},
   "outputs": [
    {
     "name": "stdout",
     "output_type": "stream",
     "text": [
      "Epoch 1 training accuracy: 57.19% training loss: 4.98494\n",
      "Epoch 1 validation accuracy: 89.15% validation loss: 1.27227\n",
      "Epoch 2 training accuracy: 91.00% training loss: 0.95448\n",
      "Epoch 2 validation accuracy: 93.38% validation loss: 0.69337\n",
      "Epoch 3 training accuracy: 94.00% training loss: 0.61905\n",
      "Epoch 3 validation accuracy: 94.96% validation loss: 0.51994\n",
      "Epoch 4 training accuracy: 95.33% training loss: 0.47554\n",
      "Epoch 4 validation accuracy: 95.87% validation loss: 0.43117\n",
      "Epoch 5 training accuracy: 96.16% training loss: 0.39705\n",
      "Epoch 5 validation accuracy: 96.38% validation loss: 0.37899\n",
      "Epoch 6 training accuracy: 96.66% training loss: 0.34273\n",
      "Epoch 6 validation accuracy: 96.85% validation loss: 0.32820\n",
      "Epoch 7 training accuracy: 97.07% training loss: 0.30307\n",
      "Epoch 7 validation accuracy: 97.03% validation loss: 0.30610\n",
      "Epoch 8 training accuracy: 97.36% training loss: 0.27134\n",
      "Epoch 8 validation accuracy: 97.28% validation loss: 0.28266\n",
      "Epoch 9 training accuracy: 97.65% training loss: 0.24753\n",
      "Epoch 9 validation accuracy: 97.42% validation loss: 0.26275\n",
      "Epoch 10 training accuracy: 97.79% training loss: 0.22814\n",
      "Epoch 10 validation accuracy: 97.52% validation loss: 0.25005\n",
      "Epoch 11 training accuracy: 97.92% training loss: 0.21332\n",
      "Epoch 11 validation accuracy: 97.76% validation loss: 0.24372\n",
      "Epoch 12 training accuracy: 98.07% training loss: 0.20069\n",
      "Epoch 12 validation accuracy: 97.73% validation loss: 0.22906\n",
      "Epoch 13 training accuracy: 98.16% training loss: 0.18714\n",
      "Epoch 13 validation accuracy: 97.91% validation loss: 0.21946\n"
     ]
    }
   ],
   "source": [
    "num_epochs = 25\n",
    "\n",
    "# Establish a list for our history.\n",
    "train_loss_history = list()\n",
    "val_loss_history = list()\n",
    "\n",
    "# Set best validation loss to infinity, since we're going to monitor validation loss for improvement\n",
    "best_val_loss = float(\"inf\")\n",
    "\n",
    "# Threshold for minimum performance improvement\n",
    "thresh = 0.01\n",
    "\n",
    "# How many times performance has fallen below the threshold\n",
    "below_threshold = 0\n",
    "\n",
    "# How many epochs we should allow performance improvement to fall below threshold\n",
    "patience = 2\n",
    "    \n",
    "for epoch in range(num_epochs):\n",
    "    train_accuracy_percent, train_loss_percent = train(net, train_loader, optimizer, criterion, device)\n",
    "    validation_accuracy_percent, validation_loss_percent = validate(net, validation_loader, criterion, device)\n",
    "    \n",
    "    print(f'Epoch {epoch + 1} training accuracy: {train_accuracy_percent:.2f}% training loss: {train_loss_percent:.5f}')\n",
    "    train_loss_history.append(train_loss_percent)\n",
    "    print(f'Epoch {epoch + 1} validation accuracy: {validation_accuracy_percent:.2f}% validation loss: {validation_loss_percent:.5f}')\n",
    "    val_loss_history.append(validation_loss_percent)\n",
    "    \n",
    "    # Calculate the difference between the best validation loss and the best validation loss.\n",
    "    diff = best_val_loss - validation_loss_percent\n",
    "\n",
    "    # Set the best validation loss to the current validation loss if it's smaller.\n",
    "    if best_val_loss > validation_loss_percent:\n",
    "        best_val_loss = validation_loss_percent\n",
    "\n",
    "    # Check if the difference between the best val loss and the current val loss is under threshold.\n",
    "    if diff <= thresh:\n",
    "        # Increase count below threshold.\n",
    "        below_threshold += 1\n",
    "        # Check if the number below threshold is greater than our patience and stop training if it is.\n",
    "        if below_threshold >= patience:\n",
    "            break"
   ]
  },
  {
   "cell_type": "code",
   "execution_count": 19,
   "metadata": {},
   "outputs": [
    {
     "name": "stdout",
     "output_type": "stream",
     "text": [
      "Testing accuracy: 98.47% testing loss: 0.15\n"
     ]
    }
   ],
   "source": [
    "test_accuracy_percent, test_loss_percent = test(net, test_loader, criterion, device)\n",
    "\n",
    "# Print testing accuracy to the notebook.\n",
    "print(f'Testing accuracy: {test_accuracy_percent:.2f}% testing loss: {test_loss_percent:.2f}')"
   ]
  },
  {
   "cell_type": "markdown",
   "metadata": {},
   "source": [
    "## Saving your model\n",
    "Using `torch.save`, save your model for future loading."
   ]
  },
  {
   "cell_type": "code",
   "execution_count": 20,
   "metadata": {},
   "outputs": [],
   "source": [
    "torch.save(net, 'model.pth')"
   ]
  }
 ],
 "metadata": {
  "kernelspec": {
   "display_name": "Python 3 (ipykernel)",
   "language": "python",
   "name": "python3"
  },
  "language_info": {
   "codemirror_mode": {
    "name": "ipython",
    "version": 3
   },
   "file_extension": ".py",
   "mimetype": "text/x-python",
   "name": "python",
   "nbconvert_exporter": "python",
   "pygments_lexer": "ipython3",
   "version": "3.10.12"
  }
 },
 "nbformat": 4,
 "nbformat_minor": 4
}
